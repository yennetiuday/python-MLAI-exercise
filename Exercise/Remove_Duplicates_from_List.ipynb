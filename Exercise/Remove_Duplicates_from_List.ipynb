{
 "cells": [
  {
   "cell_type": "code",
   "execution_count": 1,
   "id": "929b4e37",
   "metadata": {},
   "outputs": [],
   "source": [
    "def remove_duplicates_using_list(original_list):\n",
    "    updated_list = []\n",
    "    \n",
    "    for x in original_list:\n",
    "        if x not in updated_list:\n",
    "            updated_list.append(x)\n",
    "    \n",
    "    return updated_list"
   ]
  },
  {
   "cell_type": "code",
   "execution_count": 2,
   "id": "922454a1",
   "metadata": {},
   "outputs": [],
   "source": [
    "def remove_duplicates_using_set(original_list):\n",
    "    updated_set = set()\n",
    "    \n",
    "    for x in original_list:\n",
    "        updated_set.add(x)\n",
    "    \n",
    "    return list(updated_set)"
   ]
  },
  {
   "cell_type": "code",
   "execution_count": 3,
   "id": "18733a18",
   "metadata": {},
   "outputs": [
    {
     "name": "stdout",
     "output_type": "stream",
     "text": [
      "[0, 1, 2, 3, 4, 5, 6, 7, 8]\n",
      "[0, 1, 2, 3, 4, 5, 6, 7, 8]\n"
     ]
    }
   ],
   "source": [
    "user_list = [0, 1, 2, 3, 4, 5, 3,2 ,1, 6, 7, 4, 8]\n",
    "\n",
    "print(remove_duplicates_using_list(user_list))\n",
    "print(remove_duplicates_using_set(user_list))"
   ]
  }
 ],
 "metadata": {
  "kernelspec": {
   "display_name": "Python 3 (ipykernel)",
   "language": "python",
   "name": "python3"
  },
  "language_info": {
   "codemirror_mode": {
    "name": "ipython",
    "version": 3
   },
   "file_extension": ".py",
   "mimetype": "text/x-python",
   "name": "python",
   "nbconvert_exporter": "python",
   "pygments_lexer": "ipython3",
   "version": "3.9.7"
  }
 },
 "nbformat": 4,
 "nbformat_minor": 5
}
