{
 "cells": [
  {
   "cell_type": "code",
   "execution_count": 1,
   "id": "a99f8fd0",
   "metadata": {},
   "outputs": [],
   "source": [
    "def print_border():\n",
    "    print(\" --- --- ---\")"
   ]
  },
  {
   "cell_type": "code",
   "execution_count": 2,
   "id": "5ce82e89",
   "metadata": {},
   "outputs": [],
   "source": [
    "def print_row(row):\n",
    "    print(f\"| {row[0]} | {row[1]} | {row[2]} |\")"
   ]
  },
  {
   "cell_type": "code",
   "execution_count": 3,
   "id": "95466e04",
   "metadata": {},
   "outputs": [],
   "source": [
    "def list_to_rows(list):\n",
    "    for i in range(0, len(list), 3):\n",
    "        yield list[i:i + 3]"
   ]
  },
  {
   "cell_type": "code",
   "execution_count": 4,
   "id": "602906fe",
   "metadata": {},
   "outputs": [],
   "source": [
    "def display_game_board(values):\n",
    "    print_border()\n",
    "    rows = list_to_rows(values)\n",
    "    for row in rows:\n",
    "        print_row(row)\n",
    "        print_border()"
   ]
  },
  {
   "cell_type": "code",
   "execution_count": 5,
   "id": "ea663b59",
   "metadata": {},
   "outputs": [
    {
     "name": "stdout",
     "output_type": "stream",
     "text": [
      " --- --- ---\n",
      "| 0 | 1 | 2 |\n",
      " --- --- ---\n",
      "| 3 | 4 | 5 |\n",
      " --- --- ---\n",
      "| 6 | 7 | 8 |\n",
      " --- --- ---\n"
     ]
    }
   ],
   "source": [
    "display_game_board([0,1,2,3,4,5,6,7,8])"
   ]
  },
  {
   "cell_type": "code",
   "execution_count": null,
   "id": "81d85475",
   "metadata": {},
   "outputs": [],
   "source": [
    "winning_combinations = [[0,1,2], [3,4,5], [6,7,8],\n",
    "                       [0,3,6], [1,4,7], [2,5,8]\n",
    "                       [0,4,8], [2,4,6]]"
   ]
  }
 ],
 "metadata": {
  "kernelspec": {
   "display_name": "Python 3 (ipykernel)",
   "language": "python",
   "name": "python3"
  },
  "language_info": {
   "codemirror_mode": {
    "name": "ipython",
    "version": 3
   },
   "file_extension": ".py",
   "mimetype": "text/x-python",
   "name": "python",
   "nbconvert_exporter": "python",
   "pygments_lexer": "ipython3",
   "version": "3.9.7"
  }
 },
 "nbformat": 4,
 "nbformat_minor": 5
}
