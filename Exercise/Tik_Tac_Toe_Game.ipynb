{
 "cells": [
  {
   "cell_type": "code",
   "execution_count": 1,
   "id": "12d65008",
   "metadata": {},
   "outputs": [],
   "source": [
    "from itertools import cycle"
   ]
  },
  {
   "cell_type": "code",
   "execution_count": 2,
   "id": "a99f8fd0",
   "metadata": {},
   "outputs": [],
   "source": [
    "def print_border(game_size):\n",
    "    print(\"   \"+ \" \".join(\"---\" for x in range(game_size)))"
   ]
  },
  {
   "cell_type": "code",
   "execution_count": 3,
   "id": "5ce82e89",
   "metadata": {
    "scrolled": true
   },
   "outputs": [],
   "source": [
    "def print_row(row_num, row):\n",
    "    print(f\"{row_num} | \"+\" | \".join(f\"{i:.2}\" for i in row)+\" |\")"
   ]
  },
  {
   "cell_type": "code",
   "execution_count": 4,
   "id": "bcda127d",
   "metadata": {},
   "outputs": [],
   "source": [
    "def reset_game(game_size):\n",
    "    global game\n",
    "    game = [[' ' for i in range(game_size)] for i in range(game_size)]\n",
    "    print(game)"
   ]
  },
  {
   "cell_type": "code",
   "execution_count": 5,
   "id": "602906fe",
   "metadata": {},
   "outputs": [],
   "source": [
    "def display_game_board(game_data, player='x', row=0, column=0, just_display=False):\n",
    "    try:\n",
    "        if game_data[row][column] != ' ':\n",
    "            print(\"This position is already occupied. Choose another!\")\n",
    "            return False\n",
    "        \n",
    "        if not just_display:\n",
    "            game_data[row][column] = player\n",
    "        print(\"    0   1   2\")\n",
    "        print_border(len(game))\n",
    "        for index, row in enumerate(game_data):\n",
    "            print_row(index, row)\n",
    "            print_border(len(game))\n",
    "            \n",
    "        return True\n",
    "    except IndexError as i:\n",
    "        print(\"Error: row/column values should be 0 or 1 or 2.\", i)\n",
    "        return False\n",
    "    except Exception as e:\n",
    "        print(\"Error: Something went wrong!\", e)\n",
    "        return False"
   ]
  },
  {
   "cell_type": "code",
   "execution_count": 6,
   "id": "41cc362d",
   "metadata": {},
   "outputs": [],
   "source": [
    "def find_winner(row, location):\n",
    "    if len(set(row)) == 1 and row[0]!=' ':\n",
    "        print(f\"Player {row[0]} is the Winner {location}!\")\n",
    "        return True"
   ]
  },
  {
   "cell_type": "code",
   "execution_count": 7,
   "id": "5460954b",
   "metadata": {},
   "outputs": [],
   "source": [
    "def check_win(game):\n",
    "    for row in game:\n",
    "        if find_winner(row, 'horizontally'):\n",
    "            return True\n",
    "            \n",
    "    for col in range(len(game)):\n",
    "        column = []\n",
    "        for row in game:\n",
    "            column.append(row[col])\n",
    "        if find_winner(column, 'vertically'):\n",
    "            return True\n",
    "    \n",
    "    diags = []\n",
    "    for i in range(len(game)):\n",
    "        diags.append(game[i][i])\n",
    "    if find_winner(diags, 'diagonally (\\\\)'):\n",
    "        return True\n",
    "    diags = []\n",
    "    for row, col in enumerate(reversed(range(len(game)))):\n",
    "        diags.append(game[row][col])\n",
    "    if find_winner(diags, 'diagonally (/)'):\n",
    "        return True\n",
    "    return False"
   ]
  },
  {
   "cell_type": "code",
   "execution_count": 9,
   "id": "00e4c82f",
   "metadata": {
    "scrolled": true
   },
   "outputs": [
    {
     "name": "stdout",
     "output_type": "stream",
     "text": [
      "[[' ', ' ', ' '], [' ', ' ', ' '], [' ', ' ', ' ']]\n",
      "    0   1   2\n",
      "   --- --- ---\n",
      "0 |   |   |   |\n",
      "   --- --- ---\n",
      "1 |   |   |   |\n",
      "   --- --- ---\n",
      "2 |   |   |   |\n",
      "   --- --- ---\n",
      "Current Player: x\n",
      "What row you want to choose? (0, 1, 2):0\n",
      "What column you want to choose? (0, 1, 2):0\n",
      "    0   1   2\n",
      "   --- --- ---\n",
      "0 | x |   |   |\n",
      "   --- --- ---\n",
      "1 |   |   |   |\n",
      "   --- --- ---\n",
      "2 |   |   |   |\n",
      "   --- --- ---\n",
      "Current Player: o\n",
      "What row you want to choose? (0, 1, 2):0\n",
      "What column you want to choose? (0, 1, 2):1\n",
      "    0   1   2\n",
      "   --- --- ---\n",
      "0 | x | o |   |\n",
      "   --- --- ---\n",
      "1 |   |   |   |\n",
      "   --- --- ---\n",
      "2 |   |   |   |\n",
      "   --- --- ---\n",
      "Current Player: x\n",
      "What row you want to choose? (0, 1, 2):1\n",
      "What column you want to choose? (0, 1, 2):1\n",
      "    0   1   2\n",
      "   --- --- ---\n",
      "0 | x | o |   |\n",
      "   --- --- ---\n",
      "1 |   | x |   |\n",
      "   --- --- ---\n",
      "2 |   |   |   |\n",
      "   --- --- ---\n",
      "Current Player: o\n",
      "What row you want to choose? (0, 1, 2):03\n",
      "What column you want to choose? (0, 1, 2):2\n",
      "Error: row/column values should be 0 or 1 or 2. list index out of range\n",
      "What row you want to choose? (0, 1, 2):2\n",
      "What column you want to choose? (0, 1, 2):0\n",
      "    0   1   2\n",
      "   --- --- ---\n",
      "0 | x | o |   |\n",
      "   --- --- ---\n",
      "1 |   | x |   |\n",
      "   --- --- ---\n",
      "2 | o |   |   |\n",
      "   --- --- ---\n",
      "Current Player: x\n",
      "What row you want to choose? (0, 1, 2):2\n",
      "What column you want to choose? (0, 1, 2):2\n",
      "    0   1   2\n",
      "   --- --- ---\n",
      "0 | x | o |   |\n",
      "   --- --- ---\n",
      "1 |   | x |   |\n",
      "   --- --- ---\n",
      "2 | o |   | x |\n",
      "   --- --- ---\n",
      "Player x is the Winner diagonally (\\)!\n",
      "The game is over, would you like to play again? (y/n) n\n",
      "Thank you for playing\n"
     ]
    }
   ],
   "source": [
    "game = []\n",
    "play = True\n",
    "players = ['x', 'o']\n",
    "\n",
    "while play:\n",
    "#     game_size = input(\"What size game of tic tac toe? \")\n",
    "    reset_game(3)\n",
    "    \n",
    "    game_won = False\n",
    "    count=0\n",
    "    display_game_board(game, just_display=True)\n",
    "    players_cycle = cycle(players)\n",
    "    while not game_won:\n",
    "        current_player = next(players_cycle)\n",
    "        print(f\"Current Player: {current_player}\")\n",
    "        played = False\n",
    "        count += 1\n",
    "        \n",
    "        while not played:\n",
    "            row_choice = int(input(\"What row you want to choose? (0, 1, 2):\"))\n",
    "            column_choice = int(input(\"What column you want to choose? (0, 1, 2):\"))\n",
    "            played = display_game_board(game, current_player, row_choice, column_choice)\n",
    "            \n",
    "        if count >= 5 and check_win(game):\n",
    "            game_won = True\n",
    "            repeat = input(\"The game is over, would you like to play again? (y/n) \").lower()\n",
    "            if repeat == 'y':\n",
    "                print(\"Restarting\")\n",
    "            elif repeat == 'n':\n",
    "                print(\"Thank you for playing\")\n",
    "                play = False\n",
    "            else:\n",
    "                print(\"Invalid choice. Exiting the game.\")\n",
    "                play = False"
   ]
  }
 ],
 "metadata": {
  "kernelspec": {
   "display_name": "Python 3 (ipykernel)",
   "language": "python",
   "name": "python3"
  },
  "language_info": {
   "codemirror_mode": {
    "name": "ipython",
    "version": 3
   },
   "file_extension": ".py",
   "mimetype": "text/x-python",
   "name": "python",
   "nbconvert_exporter": "python",
   "pygments_lexer": "ipython3",
   "version": "3.9.7"
  }
 },
 "nbformat": 4,
 "nbformat_minor": 5
}
