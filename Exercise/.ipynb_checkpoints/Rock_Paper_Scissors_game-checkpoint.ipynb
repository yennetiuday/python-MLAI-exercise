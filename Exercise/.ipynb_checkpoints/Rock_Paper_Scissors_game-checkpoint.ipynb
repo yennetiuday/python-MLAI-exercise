{
 "cells": [
  {
   "cell_type": "code",
   "execution_count": 1,
   "id": "a102d340",
   "metadata": {},
   "outputs": [],
   "source": [
    "import random"
   ]
  },
  {
   "cell_type": "code",
   "execution_count": 2,
   "id": "8b2f53a8",
   "metadata": {},
   "outputs": [],
   "source": [
    "possible_choices = ['rock', 'paper', 'scissors']"
   ]
  },
  {
   "cell_type": "code",
   "execution_count": 3,
   "id": "68e2a061",
   "metadata": {},
   "outputs": [],
   "source": [
    "def select_user_choice():\n",
    "    user_choice = input(\"Select one from 'Rock', 'Paper' and 'Scissors': \").lower()\n",
    "    print(f\"User's choice is {user_choice}\")\n",
    "    return user_choice"
   ]
  },
  {
   "cell_type": "code",
   "execution_count": 4,
   "id": "aa250ff7",
   "metadata": {},
   "outputs": [],
   "source": [
    "def random_computer_choice():\n",
    "    computer_choice = random.choice(possible_choices)\n",
    "    print(f\"Computer's choice is {computer_choice}\")\n",
    "    return computer_choice"
   ]
  },
  {
   "cell_type": "code",
   "execution_count": 5,
   "id": "11efc2f7",
   "metadata": {},
   "outputs": [],
   "source": [
    "def process_choices():\n",
    "    user_choice = select_user_choice()\n",
    "    computer_choice = random_computer_choice()\n",
    "    while user_choice not in possible_choices:\n",
    "        print(\"User choice is not available in the list, try again.\")\n",
    "        user_choice = select_user_choice()\n",
    "        computer_choice = random_computer_choice()\n",
    "        while user_choice == computer_choice:\n",
    "            print(\"It is a tie!\")\n",
    "            print(\"Try again.\")\n",
    "            user_choice = select_user_choice()\n",
    "            computer_choice = random_computer_choice()\n",
    "    \n",
    "    if user_choice == 'rock':\n",
    "        if computer_choice == 'paper':\n",
    "            print(\"Paper covers the rock! You lose.\")\n",
    "        else:\n",
    "            print(\"Rock smashes the scissors! You win.\")\n",
    "    elif user_choice == 'paper':\n",
    "        if computer_choice == 'rock':\n",
    "            print(\"Paper covers the rock! You win.\")\n",
    "        else:\n",
    "            print(\"Scissors cuts the paper! You lose.\")        \n",
    "    elif user_choice == 'scissors':\n",
    "        if computer_choice == 'rock':\n",
    "            print(\"Rock smashes the scissors! You lose.\")\n",
    "        else:\n",
    "            print(\"Scissors cuts the paper! You win.\")"
   ]
  },
  {
   "cell_type": "code",
   "execution_count": 6,
   "id": "40ebad35",
   "metadata": {},
   "outputs": [
    {
     "name": "stdout",
     "output_type": "stream",
     "text": [
      "Select one from 'Rock', 'Paper' and 'Scissors': rock\n",
      "User's choice is rock\n",
      "Computer's choice is paper\n",
      "Paper covers the rock! You lose.\n",
      "Do you want to continue the game? ('y' - Yes or 'n' - No) : y\n",
      "Select one from 'Rock', 'Paper' and 'Scissors': tock\n",
      "User's choice is tock\n",
      "Computer's choice is rock\n",
      "User choice is not available in the list, try again.\n",
      "Select one from 'Rock', 'Paper' and 'Scissors': rock\n",
      "User's choice is rock\n",
      "Computer's choice is scissors\n",
      "Rock smashes the scissors! You win.\n",
      "Do you want to continue the game? ('y' - Yes or 'n' - No) : n\n"
     ]
    }
   ],
   "source": [
    "process_choices()\n",
    "\n",
    "def restart_game_check():\n",
    "    return input(\"Do you want to continue the game? ('y' - Yes or 'n' - No) : \").lower()\n",
    "    \n",
    "    \n",
    "restart_game_choice = restart_game_check()\n",
    "    \n",
    "while restart_game_choice not in ['y', 'n']:\n",
    "    print(\"Invalid input!\")\n",
    "    restart_game_choice = restart_game_check()\n",
    "\n",
    "while restart_game_choice !='n':\n",
    "    process_choices()\n",
    "    restart_game_choice = restart_game_check()"
   ]
  },
  {
   "cell_type": "code",
   "execution_count": null,
   "id": "1a03438b",
   "metadata": {},
   "outputs": [],
   "source": []
  }
 ],
 "metadata": {
  "kernelspec": {
   "display_name": "Python 3 (ipykernel)",
   "language": "python",
   "name": "python3"
  },
  "language_info": {
   "codemirror_mode": {
    "name": "ipython",
    "version": 3
   },
   "file_extension": ".py",
   "mimetype": "text/x-python",
   "name": "python",
   "nbconvert_exporter": "python",
   "pygments_lexer": "ipython3",
   "version": "3.9.7"
  }
 },
 "nbformat": 4,
 "nbformat_minor": 5
}
