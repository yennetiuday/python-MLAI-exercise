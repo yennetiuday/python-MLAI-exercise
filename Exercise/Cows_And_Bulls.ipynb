{
 "cells": [
  {
   "cell_type": "code",
   "execution_count": 1,
   "id": "146d2d1d",
   "metadata": {},
   "outputs": [],
   "source": [
    "import random"
   ]
  },
  {
   "cell_type": "code",
   "execution_count": 2,
   "id": "49a2802e",
   "metadata": {},
   "outputs": [],
   "source": [
    "cows = 0\n",
    "bulls = 0\n",
    "count = 0"
   ]
  },
  {
   "cell_type": "code",
   "execution_count": 3,
   "id": "4b62995e",
   "metadata": {},
   "outputs": [],
   "source": [
    "def get_digits(n):\n",
    "    return [int(i) for i in str(n)]"
   ]
  },
  {
   "cell_type": "code",
   "execution_count": 4,
   "id": "d289d89d",
   "metadata": {},
   "outputs": [],
   "source": [
    "def have_no_duplicates(n):\n",
    "    digits = get_digits(n)\n",
    "    if len(digits) == len(set(digits)):\n",
    "        return True\n",
    "    else:\n",
    "        return False"
   ]
  },
  {
   "cell_type": "code",
   "execution_count": 5,
   "id": "77ff428d",
   "metadata": {},
   "outputs": [],
   "source": [
    "def generate_number():\n",
    "    while True:\n",
    "        n = random.randint(1000, 9999)\n",
    "        if have_no_duplicates(n):\n",
    "            return n"
   ]
  },
  {
   "cell_type": "code",
   "execution_count": 6,
   "id": "2fc67d63",
   "metadata": {},
   "outputs": [],
   "source": [
    "def check_cows_and_bulls(number, guess):\n",
    "    cows_and_bulls = [0, 0]\n",
    "    number_list = get_digits(number)\n",
    "    guess_list = get_digits(guess)\n",
    "    \n",
    "    for i,j in zip(number_list, guess_list):\n",
    "        if j in number_list:\n",
    "            if j == i:\n",
    "                cows_and_bulls[0] += 1\n",
    "            else:\n",
    "                cows_and_bulls[1] += 1\n",
    "        \n",
    "    return cows_and_bulls"
   ]
  },
  {
   "cell_type": "code",
   "execution_count": 7,
   "id": "c21227b8",
   "metadata": {},
   "outputs": [
    {
     "name": "stdout",
     "output_type": "stream",
     "text": [
      "Generated number: 3420\n",
      "Enter your four digit guess: 1234\n",
      "0 cows and 3 bulls\n",
      "Enter your four digit guess: 2341\n",
      "0 cows and 3 bulls\n",
      "Enter your four digit guess: 3412\n",
      "2 cows and 1 bulls\n",
      "Enter your four digit guess: 4123\n",
      "1 cows and 2 bulls\n",
      "Enter your four digit guess: 3421\n",
      "3 cows and 0 bulls\n",
      "Enter your four digit guess: 3425\n",
      "3 cows and 0 bulls\n",
      "Enter your four digit guess: 3426\n",
      "3 cows and 0 bulls\n",
      "Enter your four digit guess: 3427\n",
      "3 cows and 0 bulls\n",
      "Enter your four digit guess: 3428\n",
      "3 cows and 0 bulls\n",
      "Enter your four digit guess: 3429\n",
      "3 cows and 0 bulls\n",
      "Enter your four digit guess: 3420\n",
      "4 cows and 0 bulls\n",
      "Guessed it correct.\n",
      "Guessed the number in 11 tries.\n"
     ]
    }
   ],
   "source": [
    "number = generate_number()\n",
    "print(f\"Generated number for reference: {number}\")\n",
    "\n",
    "while True:\n",
    "    guess = int(input(\"Enter your four digit guess: \"))\n",
    "    \n",
    "    if not have_no_duplicates(guess):\n",
    "        print(\"Number should not contain duplicates. Try again.\")\n",
    "        continue\n",
    "    \n",
    "    if len(str(guess)) != 4:\n",
    "        print(\"Enter 4 digit number. Try again.\")\n",
    "        continue\n",
    "        \n",
    "    cows_and_bulls = check_cows_and_bulls(number, guess)\n",
    "    print(f\"{cows_and_bulls[0]} cows and {cows_and_bulls[1]} bulls\")\n",
    "    count += 1\n",
    "    \n",
    "    if(cows_and_bulls[0] == 4):\n",
    "        print(\"Guessed it correct.\")\n",
    "        break\n",
    "        \n",
    "print(f\"Guessed the number in {count} tries.\")"
   ]
  },
  {
   "cell_type": "code",
   "execution_count": null,
   "id": "824b00c9",
   "metadata": {},
   "outputs": [],
   "source": []
  }
 ],
 "metadata": {
  "kernelspec": {
   "display_name": "Python 3 (ipykernel)",
   "language": "python",
   "name": "python3"
  },
  "language_info": {
   "codemirror_mode": {
    "name": "ipython",
    "version": 3
   },
   "file_extension": ".py",
   "mimetype": "text/x-python",
   "name": "python",
   "nbconvert_exporter": "python",
   "pygments_lexer": "ipython3",
   "version": "3.9.7"
  }
 },
 "nbformat": 4,
 "nbformat_minor": 5
}
